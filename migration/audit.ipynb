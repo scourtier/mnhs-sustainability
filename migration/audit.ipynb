{
 "cells": [
  {
   "cell_type": "code",
   "execution_count": 1,
   "metadata": {
    "collapsed": false
   },
   "outputs": [
    {
     "name": "stderr",
     "output_type": "stream",
     "text": [
      "Loading required package: data.table\n"
     ]
    }
   ],
   "source": [
    "require(data.table)"
   ]
  },
  {
   "cell_type": "markdown",
   "metadata": {},
   "source": [
    "### (load usages)"
   ]
  },
  {
   "cell_type": "code",
   "execution_count": 2,
   "metadata": {
    "collapsed": false
   },
   "outputs": [],
   "source": [
    "usage = fread(\"utilities_data/datastore_export/usage.csv\", stringsAsFactors=TRUE,\n",
    "              colClasses=c(parent=\"factor\", key=\"factor\"))\n",
    "setnames(usage, c(\"parent\", \"key\"), c(\"invoice_key\", \"usage_key\"))\n",
    "setkey(usage, invoice_key, usage_key)"
   ]
  },
  {
   "cell_type": "markdown",
   "metadata": {},
   "source": [
    "## raw usage count by service and unit"
   ]
  },
  {
   "cell_type": "code",
   "execution_count": 3,
   "metadata": {
    "collapsed": false
   },
   "outputs": [
    {
     "data": {
      "text/plain": [
       "                  service\n",
       "unit                    Electricity Natural Gas  Oil Oil Additional Services\n",
       "                      0           2           4    0                       0\n",
       "  100cu.ft.           0           0           0    0                       0\n",
       "  Gallon              0           0           0    0                       0\n",
       "  Ton                 0           0           0    0                       0\n",
       "  W                   0           1           0    0                       0\n",
       "  bulk                0           0           0    0                       0\n",
       "  c.f                 0           0           0    0                       0\n",
       "  cf                  0           0           0    0                       0\n",
       "  dumpster            0           0           0    0                       0\n",
       "  each                0           0           0    0                       0\n",
       "  fl                  0           0           0    0                       0\n",
       "  gal                 0           0           0    0                       0\n",
       "  galllon             0           0           0    0                       0\n",
       "  gallon              0           0          12  100                       0\n",
       "  gallons             0           0           0    4                       0\n",
       "  kW                  0          18           0    0                       0\n",
       "  kWh                 0          30           0    0                       0\n",
       "  kw                  0         587           0    0                       0\n",
       "  kwh                 0        1754           0    0                       0\n",
       "  lbs                 0           0           0    0                       0\n",
       "  month               0           0           0    0                       0\n",
       "  parts and labors    0           0           0    0                       1\n",
       "  pickup              0           0           0    0                       0\n",
       "  tank                0           0           1    0                       0\n",
       "  therm               0           0         777    0                       0\n",
       "  therms              0           0          12    0                       0\n",
       "  ton                 0           0           0    0                       0\n",
       "  w                   0          35           0    0                       0\n",
       "  winter              0           1           0    0                       0\n",
       "  yard                0           0           0    0                       0\n",
       "  yd                  2           0           0    0                       0\n",
       "                  service\n",
       "unit               Propane Stormwater Street Light Trash Waste Water Water    e\n",
       "                         0          3            0    77           0    42    0\n",
       "  100cu.ft.              0          0            0     0           0    28    0\n",
       "  Gallon                 0          0            0     4           0     6    0\n",
       "  Ton                    0          0            0     2           0     0    0\n",
       "  W                      0          0            0     0           0     0    0\n",
       "  bulk                   0          0            0     1           0     0    0\n",
       "  c.f                    0          0            0     0           0    98    0\n",
       "  cf                     0          0            0     0          98     0    0\n",
       "  dumpster               0          0            0     1           0     0    0\n",
       "  each                   0          0            0     4           0     0    0\n",
       "  fl                     0          0            0     1           0     0    0\n",
       "  gal                    0          0            0     4           0     0    0\n",
       "  galllon                0          0            0    35           0     0    0\n",
       "  gallon                 1          0            0    14           1   214    0\n",
       "  gallons                1          0            0     0           5     5    0\n",
       "  kW                     0          0            0     0           0     0    0\n",
       "  kWh                    0          0            0     0           0     0    0\n",
       "  kw                     0          0            0     0           0     0    1\n",
       "  kwh                    0          0           96     1           0     0    0\n",
       "  lbs                    0          0            0    27           0     0    0\n",
       "  month                  0          0            0     1           0     0    0\n",
       "  parts and labors       0          0            0     0           0     0    0\n",
       "  pickup                 0          0            0     1           0     0    0\n",
       "  tank                   0          0            0     0           0     0    0\n",
       "  therm                  0          0            0     0           0     0    0\n",
       "  therms                 0          0            0     0           0     0    0\n",
       "  ton                    0          0            0     3           0     0    0\n",
       "  w                      0          0            0     0           0     0    0\n",
       "  winter                 0          0            0     0           0     0    0\n",
       "  yard                   0          0            0   169           0     0    0\n",
       "  yd                     0          0            0   504           0     0    0"
      ]
     },
     "execution_count": 3,
     "metadata": {},
     "output_type": "execute_result"
    }
   ],
   "source": [
    "table(usage[, .(unit, service)], useNA=\"ifany\")"
   ]
  },
  {
   "cell_type": "markdown",
   "metadata": {},
   "source": [
    "### (recode Service and Units)\n",
    "NOTE: \"Waste Water\" is coded NA (to be removed later) to avoid double-counting"
   ]
  },
  {
   "cell_type": "code",
   "execution_count": 4,
   "metadata": {
    "collapsed": false
   },
   "outputs": [
    {
     "data": {
      "text/plain": [
       "       service\n",
       "unit    Electricity Natural Gas  Oil Propane Water Trash <NA>\n",
       "  cu ft           0           0    0       0   126     0   98\n",
       "  gal             0          12  104       2   225    57    6\n",
       "  T               0           0    0       0     0     5    0\n",
       "  W              36           0    0       0     0     0    0\n",
       "  kW            606           0    0       0     0     0    0\n",
       "  kWh          1880           0    0       0     0     1    0\n",
       "  lbs             0           0    0       0     0    27    0\n",
       "  thm             0         789    0       0     0     0    0\n",
       "  yd              0           0    0       0     0   673    2\n",
       "  <NA>            3           5    0       0    45    86    1"
      ]
     },
     "execution_count": 4,
     "metadata": {},
     "output_type": "execute_result"
    }
   ],
   "source": [
    "levels(usage$service) = c(\n",
    "  NA, \"Electricity\", \"Natural Gas\", \"Oil\", NA, \"Propane\", \"Water\", \"Electricity\",\n",
    "  \"Trash\", NA, \"Water\", \"Electricity\")\n",
    "levels(usage$unit) = c(\n",
    "  NA, \"cu ft\", \"gal\", \"T\", \"W\", NA, \"cu ft\", \"cu ft\", NA, NA, NA, \"gal\",\n",
    "  \"gal\", \"gal\", \"gal\", \"kW\", \"kWh\", \"kW\", \"kWh\", \"lbs\", NA, NA, NA, NA, \"thm\",\n",
    "  \"thm\", \"T\", \"W\", NA, \"yd\", \"yd\")\n",
    "table(usage[, .(unit, service)], useNA=\"ifany\")"
   ]
  },
  {
   "cell_type": "markdown",
   "metadata": {},
   "source": [
    "### (load fees)"
   ]
  },
  {
   "cell_type": "code",
   "execution_count": 5,
   "metadata": {
    "collapsed": true
   },
   "outputs": [],
   "source": [
    "fee = fread(\"utilities_data/datastore_export/fee.csv\", stringsAsFactors=TRUE,\n",
    "            colClasses=c(parent=\"factor\", key=\"factor\"))\n",
    "setnames(fee, c(\"parent\", \"key\"), c(\"invoice_key\", \"fee_key\"))\n",
    "setkey(fee, invoice_key, fee_key)"
   ]
  },
  {
   "cell_type": "markdown",
   "metadata": {},
   "source": [
    "### (load feeRusage --- the cross table between fees and usages)"
   ]
  },
  {
   "cell_type": "code",
   "execution_count": 6,
   "metadata": {
    "collapsed": true
   },
   "outputs": [],
   "source": [
    "feeRusage = fread(\"utilities_data/datastore_export/feeRusage.csv\", stringsAsFactors=TRUE,\n",
    "                  colClasses=\"factor\")\n",
    "setkey(feeRusage, invoice_key, fee_key)"
   ]
  },
  {
   "cell_type": "markdown",
   "metadata": {},
   "source": [
    "## overall fees by service by year"
   ]
  },
  {
   "cell_type": "code",
   "execution_count": 7,
   "metadata": {
    "collapsed": false
   },
   "outputs": [
    {
     "data": {
      "text/html": [
       "<table>\n",
       "<thead><tr><th></th><th scope=col>start_date</th><th scope=col>service</th><th scope=col>amount</th></tr></thead>\n",
       "<tbody>\n",
       "\t<tr><th scope=row>1</th><td>2008</td><td>Electricity</td><td>230.92</td></tr>\n",
       "\t<tr><th scope=row>2</th><td>2009</td><td>Electricity</td><td>1172.49</td></tr>\n",
       "\t<tr><th scope=row>3</th><td>2010</td><td>Electricity</td><td>715.63</td></tr>\n",
       "\t<tr><th scope=row>4</th><td>2011</td><td>Electricity</td><td>954</td></tr>\n",
       "\t<tr><th scope=row>5</th><td>2012</td><td>Electricity</td><td>196531.6</td></tr>\n",
       "\t<tr><th scope=row>6</th><td>2013</td><td>Electricity</td><td>322578.1</td></tr>\n",
       "\t<tr><th scope=row>7</th><td>2014</td><td>Electricity</td><td>330148.7</td></tr>\n",
       "\t<tr><th scope=row>8</th><td>2015</td><td>Electricity</td><td>96719.18</td></tr>\n",
       "\t<tr><th scope=row>9</th><td>2008</td><td>Natural Gas</td><td>1008.92</td></tr>\n",
       "\t<tr><th scope=row>10</th><td>2009</td><td>Natural Gas</td><td>3772.82</td></tr>\n",
       "\t<tr><th scope=row>11</th><td>2010</td><td>Natural Gas</td><td>2850.85</td></tr>\n",
       "\t<tr><th scope=row>12</th><td>2011</td><td>Natural Gas</td><td>17335.46</td></tr>\n",
       "\t<tr><th scope=row>13</th><td>2012</td><td>Natural Gas</td><td>51195.41</td></tr>\n",
       "\t<tr><th scope=row>14</th><td>2013</td><td>Natural Gas</td><td>104909.5</td></tr>\n",
       "\t<tr><th scope=row>15</th><td>2014</td><td>Natural Gas</td><td>136395.4</td></tr>\n",
       "\t<tr><th scope=row>16</th><td>2015</td><td>Natural Gas</td><td>23374.82</td></tr>\n",
       "\t<tr><th scope=row>17</th><td>2011</td><td>Oil</td><td>13854.34</td></tr>\n",
       "\t<tr><th scope=row>18</th><td>2012</td><td>Oil</td><td>26250.35</td></tr>\n",
       "\t<tr><th scope=row>19</th><td>2013</td><td>Oil</td><td>53883.27</td></tr>\n",
       "\t<tr><th scope=row>20</th><td>2014</td><td>Oil</td><td>34150.44</td></tr>\n",
       "\t<tr><th scope=row>21</th><td>2015</td><td>Oil</td><td>13746.78</td></tr>\n",
       "\t<tr><th scope=row>22</th><td>2015</td><td>Propane</td><td>4239.74</td></tr>\n",
       "\t<tr><th scope=row>23</th><td>2008</td><td>Water</td><td>57.72</td></tr>\n",
       "\t<tr><th scope=row>24</th><td>2009</td><td>Water</td><td>376</td></tr>\n",
       "\t<tr><th scope=row>25</th><td>2010</td><td>Water</td><td>393.67</td></tr>\n",
       "\t<tr><th scope=row>26</th><td>2011</td><td>Water</td><td>1936.67</td></tr>\n",
       "\t<tr><th scope=row>27</th><td>2012</td><td>Water</td><td>4483.38</td></tr>\n",
       "\t<tr><th scope=row>28</th><td>2013</td><td>Water</td><td>11720.82</td></tr>\n",
       "\t<tr><th scope=row>29</th><td>2014</td><td>Water</td><td>7017.28</td></tr>\n",
       "\t<tr><th scope=row>30</th><td>2015</td><td>Water</td><td>2019.24</td></tr>\n",
       "\t<tr><th scope=row>31</th><td>2008</td><td>Trash</td><td>76.77</td></tr>\n",
       "\t<tr><th scope=row>32</th><td>2009</td><td>Trash</td><td>435.03</td></tr>\n",
       "\t<tr><th scope=row>33</th><td>2010</td><td>Trash</td><td>333.07</td></tr>\n",
       "\t<tr><th scope=row>34</th><td>2011</td><td>Trash</td><td>2829.24</td></tr>\n",
       "\t<tr><th scope=row>35</th><td>2012</td><td>Trash</td><td>18385.4</td></tr>\n",
       "\t<tr><th scope=row>36</th><td>2013</td><td>Trash</td><td>33694.01</td></tr>\n",
       "\t<tr><th scope=row>37</th><td>2014</td><td>Trash</td><td>35011.34</td></tr>\n",
       "\t<tr><th scope=row>38</th><td>2015</td><td>Trash</td><td>6856.76</td></tr>\n",
       "\t<tr><th scope=row>39</th><td>2009</td><td>NA</td><td>202.02</td></tr>\n",
       "\t<tr><th scope=row>40</th><td>2010</td><td>NA</td><td>173.24</td></tr>\n",
       "\t<tr><th scope=row>41</th><td>2011</td><td>NA</td><td>233.68</td></tr>\n",
       "\t<tr><th scope=row>42</th><td>2012</td><td>NA</td><td>166.64</td></tr>\n",
       "\t<tr><th scope=row>43</th><td>2013</td><td>NA</td><td>178.86</td></tr>\n",
       "\t<tr><th scope=row>44</th><td>2014</td><td>NA</td><td>383.06</td></tr>\n",
       "\t<tr><th scope=row>45</th><td>2015</td><td>NA</td><td>1542.97</td></tr>\n",
       "\t<tr><th scope=row>46</th><td>2018</td><td>NA</td><td>34.56</td></tr>\n",
       "\t<tr><th scope=row>47</th><td>NA</td><td>NA</td><td>12765.27</td></tr>\n",
       "</tbody>\n",
       "</table>\n"
      ],
      "text/latex": [
       "\\begin{tabular}{r|lll}\n",
       "  & start_date & service & amount\\\\\n",
       "\\hline\n",
       "\t1 & 2008 & Electricity & 230.92\\\\\n",
       "\t2 & 2009 & Electricity & 1172.49\\\\\n",
       "\t3 & 2010 & Electricity & 715.63\\\\\n",
       "\t4 & 2011 & Electricity & 954\\\\\n",
       "\t5 & 2012 & Electricity & 196531.6\\\\\n",
       "\t6 & 2013 & Electricity & 322578.1\\\\\n",
       "\t7 & 2014 & Electricity & 330148.7\\\\\n",
       "\t8 & 2015 & Electricity & 96719.18\\\\\n",
       "\t9 & 2008 & Natural Gas & 1008.92\\\\\n",
       "\t10 & 2009 & Natural Gas & 3772.82\\\\\n",
       "\t11 & 2010 & Natural Gas & 2850.85\\\\\n",
       "\t12 & 2011 & Natural Gas & 17335.46\\\\\n",
       "\t13 & 2012 & Natural Gas & 51195.41\\\\\n",
       "\t14 & 2013 & Natural Gas & 104909.5\\\\\n",
       "\t15 & 2014 & Natural Gas & 136395.4\\\\\n",
       "\t16 & 2015 & Natural Gas & 23374.82\\\\\n",
       "\t17 & 2011 & Oil & 13854.34\\\\\n",
       "\t18 & 2012 & Oil & 26250.35\\\\\n",
       "\t19 & 2013 & Oil & 53883.27\\\\\n",
       "\t20 & 2014 & Oil & 34150.44\\\\\n",
       "\t21 & 2015 & Oil & 13746.78\\\\\n",
       "\t22 & 2015 & Propane & 4239.74\\\\\n",
       "\t23 & 2008 & Water & 57.72\\\\\n",
       "\t24 & 2009 & Water & 376\\\\\n",
       "\t25 & 2010 & Water & 393.67\\\\\n",
       "\t26 & 2011 & Water & 1936.67\\\\\n",
       "\t27 & 2012 & Water & 4483.38\\\\\n",
       "\t28 & 2013 & Water & 11720.82\\\\\n",
       "\t29 & 2014 & Water & 7017.28\\\\\n",
       "\t30 & 2015 & Water & 2019.24\\\\\n",
       "\t31 & 2008 & Trash & 76.77\\\\\n",
       "\t32 & 2009 & Trash & 435.03\\\\\n",
       "\t33 & 2010 & Trash & 333.07\\\\\n",
       "\t34 & 2011 & Trash & 2829.24\\\\\n",
       "\t35 & 2012 & Trash & 18385.4\\\\\n",
       "\t36 & 2013 & Trash & 33694.01\\\\\n",
       "\t37 & 2014 & Trash & 35011.34\\\\\n",
       "\t38 & 2015 & Trash & 6856.76\\\\\n",
       "\t39 & 2009 & NA & 202.02\\\\\n",
       "\t40 & 2010 & NA & 173.24\\\\\n",
       "\t41 & 2011 & NA & 233.68\\\\\n",
       "\t42 & 2012 & NA & 166.64\\\\\n",
       "\t43 & 2013 & NA & 178.86\\\\\n",
       "\t44 & 2014 & NA & 383.06\\\\\n",
       "\t45 & 2015 & NA & 1542.97\\\\\n",
       "\t46 & 2018 & NA & 34.56\\\\\n",
       "\t47 & NA & NA & 12765.27\\\\\n",
       "\\end{tabular}\n"
      ],
      "text/plain": [
       "    start_date     service    amount\n",
       " 1:       2008 Electricity    230.92\n",
       " 2:       2009 Electricity   1172.49\n",
       " 3:       2010 Electricity    715.63\n",
       " 4:       2011 Electricity    954.00\n",
       " 5:       2012 Electricity 196531.61\n",
       " 6:       2013 Electricity 322578.07\n",
       " 7:       2014 Electricity 330148.66\n",
       " 8:       2015 Electricity  96719.18\n",
       " 9:       2008 Natural Gas   1008.92\n",
       "10:       2009 Natural Gas   3772.82\n",
       "11:       2010 Natural Gas   2850.85\n",
       "12:       2011 Natural Gas  17335.46\n",
       "13:       2012 Natural Gas  51195.41\n",
       "14:       2013 Natural Gas 104909.46\n",
       "15:       2014 Natural Gas 136395.37\n",
       "16:       2015 Natural Gas  23374.82\n",
       "17:       2011         Oil  13854.34\n",
       "18:       2012         Oil  26250.35\n",
       "19:       2013         Oil  53883.27\n",
       "20:       2014         Oil  34150.44\n",
       "21:       2015         Oil  13746.78\n",
       "22:       2015     Propane   4239.74\n",
       "23:       2008       Water     57.72\n",
       "24:       2009       Water    376.00\n",
       "25:       2010       Water    393.67\n",
       "26:       2011       Water   1936.67\n",
       "27:       2012       Water   4483.38\n",
       "28:       2013       Water  11720.82\n",
       "29:       2014       Water   7017.28\n",
       "30:       2015       Water   2019.24\n",
       "31:       2008       Trash     76.77\n",
       "32:       2009       Trash    435.03\n",
       "33:       2010       Trash    333.07\n",
       "34:       2011       Trash   2829.24\n",
       "35:       2012       Trash  18385.40\n",
       "36:       2013       Trash  33694.01\n",
       "37:       2014       Trash  35011.34\n",
       "38:       2015       Trash   6856.76\n",
       "39:       2009          NA    202.02\n",
       "40:       2010          NA    173.24\n",
       "41:       2011          NA    233.68\n",
       "42:       2012          NA    166.64\n",
       "43:       2013          NA    178.86\n",
       "44:       2014          NA    383.06\n",
       "45:       2015          NA   1542.97\n",
       "46:       2018          NA     34.56\n",
       "47:         NA          NA  12765.27\n",
       "    start_date     service    amount"
      ]
     },
     "execution_count": 7,
     "metadata": {},
     "output_type": "execute_result"
    }
   ],
   "source": [
    "usage[\n",
    "  setkey(feeRusage[\n",
    "    fee\n",
    "  ][\n",
    "  , .(usage_key, amount=amount / .N), by=key(fee)\n",
    "  ],\n",
    "  invoice_key, usage_key)\n",
    "][\n",
    ", .(amount=sum(amount)), by=.(start_date=as.integer(strftime(start, \"%Y\")), service)\n",
    "][\n",
    "  order(service, start_date)\n",
    "]"
   ]
  },
  {
   "cell_type": "markdown",
   "metadata": {},
   "source": [
    "### (omit Trash and NA usages, drop usages with rate units, then drop unused unit levels)"
   ]
  },
  {
   "cell_type": "code",
   "execution_count": 8,
   "metadata": {
    "collapsed": true
   },
   "outputs": [],
   "source": [
    "usage = na.omit(usage)\n",
    "usage = usage[service != \"Trash\" & unit != \"kW\" & unit !=\"W\"]\n",
    "usage = droplevels(usage)"
   ]
  },
  {
   "cell_type": "markdown",
   "metadata": {},
   "source": [
    "### (convert units and drop unused unit levels)"
   ]
  },
  {
   "cell_type": "code",
   "execution_count": 9,
   "metadata": {
    "collapsed": false
   },
   "outputs": [
    {
     "ename": "ERROR",
     "evalue": "Error in rbindlist(l, use.names, fill, idcol): Item 2 of list input is not a data.frame, data.table or list\n",
     "output_type": "error",
     "traceback": [
      "Error in rbindlist(l, use.names, fill, idcol): Item 2 of list input is not a data.frame, data.table or list\n"
     ]
    },
    {
     "data": {
      "text/plain": [
       "                      end invoice_key     service    meter               start\n",
       "   1: 2013-11-19T00:00:00      100001 Electricity  3565913 2013-10-21T00:00:00\n",
       "   2: 2013-11-19T00:00:00      100001 Natural Gas  2029093 2013-10-21T00:00:00\n",
       "   3: 2013-11-12T00:00:00      100002 Electricity 14042180 2013-10-14T00:00:00\n",
       "   4: 2013-10-01T00:00:00      100003 Electricity     4557 2013-09-01T00:00:00\n",
       "   5: 2014-04-14T00:00:00      100004       Water          2014-03-17T00:00:00\n",
       "  ---                                                                         \n",
       "3134: 2013-03-26T00:00:00     9300003 Electricity    30891 2013-03-01T00:00:00\n",
       "3135: 2015-02-28T00:00:00     9300005       Water          2015-02-01T00:00:00\n",
       "3136: 2012-11-30T00:00:00     9300006       Water          2012-11-01T00:00:00\n",
       "3137: 2015-01-12T00:00:00     9310002       Water          2014-12-10T00:00:00\n",
       "3138: 2013-03-31T00:00:00     9310007       Water          2013-03-01T00:00:00\n",
       "      usage_key unit    quantity\n",
       "   1:         1  kWh 16000.00000\n",
       "   2:         3  thm  1640.00000\n",
       "   3:         1  kWh 75000.00000\n",
       "   4:         1  kWh  1480.00000\n",
       "   5:         1  gal    14.96104\n",
       "  ---                           \n",
       "3134:         1  kWh 15000.00000\n",
       "3135:         1  gal  6000.00000\n",
       "3136:         1  gal  2000.00000\n",
       "3137:         1  gal     0.00000\n",
       "3138:         1  gal     0.00000"
      ]
     },
     "execution_count": 9,
     "metadata": {},
     "output_type": "execute_result"
    },
    {
     "ename": "ERROR",
     "evalue": "Error in rbindlist(l, use.names, fill, idcol): Item 2 of list input is not a data.frame, data.table or list\n",
     "output_type": "error",
     "traceback": [
      "Error in rbindlist(l, use.names, fill, idcol): Item 2 of list input is not a data.frame, data.table or list\n"
     ]
    },
    {
     "data": {
      "text/plain": [
       "                      end invoice_key     service    meter               start\n",
       "   1: 2013-11-19T00:00:00      100001 Electricity  3565913 2013-10-21T00:00:00\n",
       "   2: 2013-11-19T00:00:00      100001 Natural Gas  2029093 2013-10-21T00:00:00\n",
       "   3: 2013-11-12T00:00:00      100002 Electricity 14042180 2013-10-14T00:00:00\n",
       "   4: 2013-10-01T00:00:00      100003 Electricity     4557 2013-09-01T00:00:00\n",
       "   5: 2014-04-14T00:00:00      100004       Water          2014-03-17T00:00:00\n",
       "  ---                                                                         \n",
       "3134: 2013-03-26T00:00:00     9300003 Electricity    30891 2013-03-01T00:00:00\n",
       "3135: 2015-02-28T00:00:00     9300005       Water          2015-02-01T00:00:00\n",
       "3136: 2012-11-30T00:00:00     9300006       Water          2012-11-01T00:00:00\n",
       "3137: 2015-01-12T00:00:00     9310002       Water          2014-12-10T00:00:00\n",
       "3138: 2013-03-31T00:00:00     9310007       Water          2013-03-01T00:00:00\n",
       "      usage_key unit    quantity\n",
       "   1:         1  kWh 16000.00000\n",
       "   2:         3  thm  1640.00000\n",
       "   3:         1  kWh 75000.00000\n",
       "   4:         1  kWh  1480.00000\n",
       "   5:         1  gal    14.96104\n",
       "  ---                           \n",
       "3134:         1  kWh 15000.00000\n",
       "3135:         1  gal  6000.00000\n",
       "3136:         1  gal  2000.00000\n",
       "3137:         1  gal     0.00000\n",
       "3138:         1  gal     0.00000"
      ]
     },
     "execution_count": 9,
     "metadata": {},
     "output_type": "execute_result"
    }
   ],
   "source": [
    "cuFtToGal = function(x) 7.48052 * x\n",
    "usage[unit == \"cu ft\", `:=`(quantity=cuFtToGal(quantity), unit=\"gal\")]\n",
    "galGasToThm = function(x) 1.49828783357 * x # assuming residential fuel oil\n",
    "usage[service == \"Natural Gas\" & unit == \"gal\",\n",
    "      `:=`(quantity=galGasToThm(quantity), unit=\"thm\")]\n",
    "usage = droplevels(usage)\n"
   ]
  },
  {
   "cell_type": "markdown",
   "metadata": {},
   "source": [
    "## overall usage by service/unit by year"
   ]
  },
  {
   "cell_type": "code",
   "execution_count": 10,
   "metadata": {
    "collapsed": false
   },
   "outputs": [
    {
     "data": {
      "text/html": [
       "<table>\n",
       "<thead><tr><th></th><th scope=col>start_date</th><th scope=col>service</th><th scope=col>unit</th><th scope=col>quantity</th></tr></thead>\n",
       "<tbody>\n",
       "\t<tr><th scope=row>1</th><td>2008</td><td>Electricity</td><td>kWh</td><td>2399</td></tr>\n",
       "\t<tr><th scope=row>2</th><td>2009</td><td>Electricity</td><td>kWh</td><td>11734</td></tr>\n",
       "\t<tr><th scope=row>3</th><td>2010</td><td>Electricity</td><td>kWh</td><td>6429</td></tr>\n",
       "\t<tr><th scope=row>4</th><td>2011</td><td>Electricity</td><td>kWh</td><td>8661</td></tr>\n",
       "\t<tr><th scope=row>5</th><td>2012</td><td>Electricity</td><td>kWh</td><td>1839434</td></tr>\n",
       "\t<tr><th scope=row>6</th><td>2013</td><td>Electricity</td><td>kWh</td><td>4072070</td></tr>\n",
       "\t<tr><th scope=row>7</th><td>2014</td><td>Electricity</td><td>kWh</td><td>3030298</td></tr>\n",
       "\t<tr><th scope=row>8</th><td>2015</td><td>Electricity</td><td>kWh</td><td>897594</td></tr>\n",
       "\t<tr><th scope=row>9</th><td>2008</td><td>Natural Gas</td><td>thm</td><td>978</td></tr>\n",
       "\t<tr><th scope=row>10</th><td>2009</td><td>Natural Gas</td><td>thm</td><td>4374</td></tr>\n",
       "\t<tr><th scope=row>11</th><td>2010</td><td>Natural Gas</td><td>thm</td><td>3338</td></tr>\n",
       "\t<tr><th scope=row>12</th><td>2011</td><td>Natural Gas</td><td>thm</td><td>23916</td></tr>\n",
       "\t<tr><th scope=row>13</th><td>2012</td><td>Natural Gas</td><td>thm</td><td>76873</td></tr>\n",
       "\t<tr><th scope=row>14</th><td>2013</td><td>Natural Gas</td><td>thm</td><td>147882.4</td></tr>\n",
       "\t<tr><th scope=row>15</th><td>2014</td><td>Natural Gas</td><td>thm</td><td>151803</td></tr>\n",
       "\t<tr><th scope=row>16</th><td>2015</td><td>Natural Gas</td><td>thm</td><td>120318</td></tr>\n",
       "\t<tr><th scope=row>17</th><td>2011</td><td>Oil</td><td>gal</td><td>6782.7</td></tr>\n",
       "\t<tr><th scope=row>18</th><td>2012</td><td>Oil</td><td>gal</td><td>12630.82</td></tr>\n",
       "\t<tr><th scope=row>19</th><td>2013</td><td>Oil</td><td>gal</td><td>21304.56</td></tr>\n",
       "\t<tr><th scope=row>20</th><td>2014</td><td>Oil</td><td>gal</td><td>13920.6</td></tr>\n",
       "\t<tr><th scope=row>21</th><td>2015</td><td>Oil</td><td>gal</td><td>5113.3</td></tr>\n",
       "\t<tr><th scope=row>22</th><td>2015</td><td>Propane</td><td>gal</td><td>2563.1</td></tr>\n",
       "\t<tr><th scope=row>23</th><td>2008</td><td>Water</td><td>gal</td><td>1570.909</td></tr>\n",
       "\t<tr><th scope=row>24</th><td>2009</td><td>Water</td><td>gal</td><td>10921.56</td></tr>\n",
       "\t<tr><th scope=row>25</th><td>2010</td><td>Water</td><td>gal</td><td>14961.04</td></tr>\n",
       "\t<tr><th scope=row>26</th><td>2011</td><td>Water</td><td>gal</td><td>45086.83</td></tr>\n",
       "\t<tr><th scope=row>27</th><td>2012</td><td>Water</td><td>gal</td><td>93680.05</td></tr>\n",
       "\t<tr><th scope=row>28</th><td>2013</td><td>Water</td><td>gal</td><td>85429</td></tr>\n",
       "\t<tr><th scope=row>29</th><td>2014</td><td>Water</td><td>gal</td><td>129162.7</td></tr>\n",
       "\t<tr><th scope=row>30</th><td>2015</td><td>Water</td><td>gal</td><td>50083.05</td></tr>\n",
       "</tbody>\n",
       "</table>\n"
      ],
      "text/latex": [
       "\\begin{tabular}{r|llll}\n",
       "  & start_date & service & unit & quantity\\\\\n",
       "\\hline\n",
       "\t1 & 2008 & Electricity & kWh & 2399\\\\\n",
       "\t2 & 2009 & Electricity & kWh & 11734\\\\\n",
       "\t3 & 2010 & Electricity & kWh & 6429\\\\\n",
       "\t4 & 2011 & Electricity & kWh & 8661\\\\\n",
       "\t5 & 2012 & Electricity & kWh & 1839434\\\\\n",
       "\t6 & 2013 & Electricity & kWh & 4072070\\\\\n",
       "\t7 & 2014 & Electricity & kWh & 3030298\\\\\n",
       "\t8 & 2015 & Electricity & kWh & 897594\\\\\n",
       "\t9 & 2008 & Natural Gas & thm & 978\\\\\n",
       "\t10 & 2009 & Natural Gas & thm & 4374\\\\\n",
       "\t11 & 2010 & Natural Gas & thm & 3338\\\\\n",
       "\t12 & 2011 & Natural Gas & thm & 23916\\\\\n",
       "\t13 & 2012 & Natural Gas & thm & 76873\\\\\n",
       "\t14 & 2013 & Natural Gas & thm & 147882.4\\\\\n",
       "\t15 & 2014 & Natural Gas & thm & 151803\\\\\n",
       "\t16 & 2015 & Natural Gas & thm & 120318\\\\\n",
       "\t17 & 2011 & Oil & gal & 6782.7\\\\\n",
       "\t18 & 2012 & Oil & gal & 12630.82\\\\\n",
       "\t19 & 2013 & Oil & gal & 21304.56\\\\\n",
       "\t20 & 2014 & Oil & gal & 13920.6\\\\\n",
       "\t21 & 2015 & Oil & gal & 5113.3\\\\\n",
       "\t22 & 2015 & Propane & gal & 2563.1\\\\\n",
       "\t23 & 2008 & Water & gal & 1570.909\\\\\n",
       "\t24 & 2009 & Water & gal & 10921.56\\\\\n",
       "\t25 & 2010 & Water & gal & 14961.04\\\\\n",
       "\t26 & 2011 & Water & gal & 45086.83\\\\\n",
       "\t27 & 2012 & Water & gal & 93680.05\\\\\n",
       "\t28 & 2013 & Water & gal & 85429\\\\\n",
       "\t29 & 2014 & Water & gal & 129162.7\\\\\n",
       "\t30 & 2015 & Water & gal & 50083.05\\\\\n",
       "\\end{tabular}\n"
      ],
      "text/plain": [
       "    start_date     service unit    quantity\n",
       " 1:       2008 Electricity  kWh    2399.000\n",
       " 2:       2009 Electricity  kWh   11734.000\n",
       " 3:       2010 Electricity  kWh    6429.000\n",
       " 4:       2011 Electricity  kWh    8661.000\n",
       " 5:       2012 Electricity  kWh 1839434.020\n",
       " 6:       2013 Electricity  kWh 4072070.000\n",
       " 7:       2014 Electricity  kWh 3030298.000\n",
       " 8:       2015 Electricity  kWh  897594.000\n",
       " 9:       2008 Natural Gas  thm     978.000\n",
       "10:       2009 Natural Gas  thm    4374.000\n",
       "11:       2010 Natural Gas  thm    3338.000\n",
       "12:       2011 Natural Gas  thm   23916.000\n",
       "13:       2012 Natural Gas  thm   76873.000\n",
       "14:       2013 Natural Gas  thm  147882.434\n",
       "15:       2014 Natural Gas  thm  151802.975\n",
       "16:       2015 Natural Gas  thm  120318.000\n",
       "17:       2011         Oil  gal    6782.700\n",
       "18:       2012         Oil  gal   12630.817\n",
       "19:       2013         Oil  gal   21304.556\n",
       "20:       2014         Oil  gal   13920.604\n",
       "21:       2015         Oil  gal    5113.300\n",
       "22:       2015     Propane  gal    2563.100\n",
       "23:       2008       Water  gal    1570.909\n",
       "24:       2009       Water  gal   10921.559\n",
       "25:       2010       Water  gal   14961.040\n",
       "26:       2011       Water  gal   45086.832\n",
       "27:       2012       Water  gal   93680.052\n",
       "28:       2013       Water  gal   85429.000\n",
       "29:       2014       Water  gal  129162.662\n",
       "30:       2015       Water  gal   50083.052\n",
       "    start_date     service unit    quantity"
      ]
     },
     "execution_count": 10,
     "metadata": {},
     "output_type": "execute_result"
    }
   ],
   "source": [
    "usage[\n",
    ", .(quantity=sum(quantity)),\n",
    "  by=.(start_date=as.integer(strftime(start, \"%Y\")),\n",
    "       service,\n",
    "       unit)\n",
    "][\n",
    "  order(service, start_date)\n",
    "]"
   ]
  },
  {
   "cell_type": "code",
   "execution_count": null,
   "metadata": {
    "collapsed": true
   },
   "outputs": [],
   "source": []
  }
 ],
 "metadata": {
  "kernelspec": {
   "display_name": "R",
   "language": "R",
   "name": "ir"
  },
  "language_info": {
   "codemirror_mode": "r",
   "file_extension": ".r",
   "mimetype": "text/x-r-source",
   "name": "R",
   "pygments_lexer": "r",
   "version": "3.2.3"
  }
 },
 "nbformat": 4,
 "nbformat_minor": 0
}
